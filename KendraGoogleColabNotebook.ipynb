{
  "nbformat": 4,
  "nbformat_minor": 0,
  "metadata": {
    "colab": {
      "provenance": [],
      "authorship_tag": "ABX9TyOey+/jTg3b3nJKR3kVrESH",
      "include_colab_link": true
    },
    "kernelspec": {
      "name": "python3",
      "display_name": "Python 3"
    },
    "language_info": {
      "name": "python"
    }
  },
  "cells": [
    {
      "cell_type": "markdown",
      "metadata": {
        "id": "view-in-github",
        "colab_type": "text"
      },
      "source": [
        "<a href=\"https://colab.research.google.com/github/Kendracaraa/2360/blob/main/KendraGoogleColabNotebook.ipynb\" target=\"_parent\"><img src=\"https://colab.research.google.com/assets/colab-badge.svg\" alt=\"Open In Colab\"/></a>"
      ]
    },
    {
      "cell_type": "code",
      "execution_count": null,
      "metadata": {
        "id": "DZky4cmj5u4S"
      },
      "outputs": [],
      "source": []
    },
    {
      "cell_type": "markdown",
      "source": [
        "#This is a heading\n",
        "\n",
        "*Point 1\n",
        "*Point 2\n",
        "\n",
        "Link to [Colab](colab.research.google.com)\n",
        "\n",
        "![Network](http://mccormickml.com/assets/word2vec/skip_gram_net_arch.png)\n"
      ],
      "metadata": {
        "id": "w21soclA6Lsg"
      }
    },
    {
      "cell_type": "code",
      "source": [
        "print(\"Hello World\")"
      ],
      "metadata": {
        "colab": {
          "base_uri": "https://localhost:8080/",
          "height": 0
        },
        "id": "LvkfuKvX8CwO",
        "outputId": "6aaaa3e3-81ec-4580-eb55-a43a2642f569"
      },
      "execution_count": 1,
      "outputs": [
        {
          "output_type": "stream",
          "name": "stdout",
          "text": [
            "Hello World\n"
          ]
        }
      ]
    },
    {
      "cell_type": "code",
      "source": [
        "import numpy as np\n",
        "np.random.rand(7,8)"
      ],
      "metadata": {
        "colab": {
          "base_uri": "https://localhost:8080/",
          "height": 0
        },
        "id": "KauKWhmd8oAg",
        "outputId": "86535844-770e-46d3-f18c-8e4601cea1f7"
      },
      "execution_count": 2,
      "outputs": [
        {
          "output_type": "execute_result",
          "data": {
            "text/plain": [
              "array([[0.6052564 , 0.64635559, 0.53709578, 0.80761488, 0.29221959,\n",
              "        0.62431675, 0.49710079, 0.07147037],\n",
              "       [0.04757489, 0.52880536, 0.61827395, 0.73068531, 0.76911829,\n",
              "        0.32668183, 0.45565239, 0.05399987],\n",
              "       [0.56459767, 0.6683739 , 0.85922983, 0.15639399, 0.75724699,\n",
              "        0.11577122, 0.68007447, 0.64891465],\n",
              "       [0.43798852, 0.78271074, 0.55787366, 0.98646132, 0.05018593,\n",
              "        0.51917704, 0.37522603, 0.38163488],\n",
              "       [0.54041558, 0.19825827, 0.00479731, 0.5848736 , 0.51825268,\n",
              "        0.7304747 , 0.90080575, 0.08750059],\n",
              "       [0.66323361, 0.38583822, 0.37922875, 0.50487102, 0.29635585,\n",
              "        0.70456232, 0.67168002, 0.83817189],\n",
              "       [0.27760528, 0.40216218, 0.21001527, 0.14109123, 0.18064567,\n",
              "        0.91935093, 0.61007208, 0.10031916]])"
            ]
          },
          "metadata": {},
          "execution_count": 2
        }
      ]
    },
    {
      "cell_type": "code",
      "source": [
        "import numpy as np\n",
        "np.random.rand(8,8)"
      ],
      "metadata": {
        "colab": {
          "base_uri": "https://localhost:8080/",
          "height": 0
        },
        "outputId": "ea57cd2f-d461-448a-c739-c00b021b0c1e",
        "id": "uq1jkPDd9A3X"
      },
      "execution_count": 4,
      "outputs": [
        {
          "output_type": "execute_result",
          "data": {
            "text/plain": [
              "array([[0.11556236, 0.90200941, 0.25026455, 0.32458367, 0.82790281,\n",
              "        0.75641512, 0.08896841, 0.60362134],\n",
              "       [0.7721659 , 0.6117748 , 0.82868625, 0.87354808, 0.12932296,\n",
              "        0.8384899 , 0.1784907 , 0.4321528 ],\n",
              "       [0.5446979 , 0.01364778, 0.88276195, 0.30700821, 0.90312776,\n",
              "        0.49016276, 0.31131352, 0.09680848],\n",
              "       [0.43454566, 0.75604035, 0.92603028, 0.57525431, 0.90020491,\n",
              "        0.32656406, 0.34316166, 0.29227991],\n",
              "       [0.03553689, 0.68023599, 0.34435218, 0.94565718, 0.29463078,\n",
              "        0.86816302, 0.11690244, 0.36144522],\n",
              "       [0.36722221, 0.07061129, 0.52684118, 0.2366175 , 0.83363225,\n",
              "        0.61237632, 0.04491398, 0.0680996 ],\n",
              "       [0.8277178 , 0.8046695 , 0.95327006, 0.60034942, 0.35091415,\n",
              "        0.20321337, 0.01352344, 0.83470464],\n",
              "       [0.34754474, 0.92691892, 0.04756375, 0.1381192 , 0.78359929,\n",
              "        0.80193759, 0.30850546, 0.86710985]])"
            ]
          },
          "metadata": {},
          "execution_count": 4
        }
      ]
    }
  ]
}